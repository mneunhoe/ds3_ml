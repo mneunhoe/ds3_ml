{
  "nbformat": 4,
  "nbformat_minor": 0,
  "metadata": {
    "colab": {
      "name": "02_ds3_ml_mlr3.ipynb",
      "provenance": [],
      "collapsed_sections": [],
      "toc_visible": true,
      "authorship_tag": "ABX9TyNonZO+z/smoi0ayQYc9auW",
      "include_colab_link": true
    },
    "kernelspec": {
      "name": "ir",
      "display_name": "R"
    },
    "language_info": {
      "name": "R"
    }
  },
  "cells": [
    {
      "cell_type": "markdown",
      "metadata": {
        "id": "view-in-github",
        "colab_type": "text"
      },
      "source": [
        "<a href=\"https://colab.research.google.com/github/mneunhoe/ds3_ml/blob/main/02_ds3_ml_mlr3.ipynb\" target=\"_parent\"><img src=\"https://colab.research.google.com/assets/colab-badge.svg\" alt=\"Open In Colab\"/></a>"
      ]
    },
    {
      "cell_type": "markdown",
      "metadata": {
        "id": "BVrs0WARyxPP"
      },
      "source": [
        "# $\\text{DS}^3$: Introduction to Machine Learning\n",
        "(Marcel Neunhoeffer, LMU Munich)"
      ]
    },
    {
      "cell_type": "markdown",
      "metadata": {
        "id": "6_hlE-QEzvyH"
      },
      "source": [
        "This is the second workbook for the Data Science Summer School course \"Introduction to Machine Learning\". \n",
        "\n",
        "You can find the slides and the following workbooks for this course at: \n",
        "\n",
        "\n",
        "In this workbook we will get to know mlr3 a useful (meta) machine learning package in R.\n",
        "\n"
      ]
    },
    {
      "cell_type": "markdown",
      "metadata": {
        "id": "AmoQAzu61Lhn"
      },
      "source": [
        "Before we get started, we install and load some helpful packages to our R environment."
      ]
    },
    {
      "cell_type": "code",
      "metadata": {
        "colab": {
          "base_uri": "https://localhost:8080/",
          "height": 68
        },
        "id": "9s_AizUt1KQU",
        "outputId": "2413a5d9-398b-4e34-daa5-4de77136a483"
      },
      "source": [
        "p_needed <- c(\"viridis\", \"skimr\", \"mlr3verse\", \"data.table\", \"rchallenge\", \"ranger\", \"ggplot2\")\n",
        "packages <- rownames(installed.packages())\n",
        "p_to_install <- p_needed[!(p_needed %in% packages)]\n",
        "if (length(p_to_install) > 0) {\n",
        "  install.packages(p_to_install)\n",
        "}\n",
        "sapply(p_needed, require, character.only = TRUE)"
      ],
      "execution_count": 22,
      "outputs": [
        {
          "output_type": "stream",
          "text": [
            "Loading required package: ggplot2\n",
            "\n"
          ],
          "name": "stderr"
        },
        {
          "output_type": "display_data",
          "data": {
            "text/plain": [
              "   viridis      skimr  mlr3verse data.table rchallenge     ranger    ggplot2 \n",
              "      TRUE       TRUE       TRUE       TRUE       TRUE       TRUE       TRUE "
            ],
            "text/latex": "\\begin{description*}\n\\item[viridis] TRUE\n\\item[skimr] TRUE\n\\item[mlr3verse] TRUE\n\\item[data.table] TRUE\n\\item[rchallenge] TRUE\n\\item[ranger] TRUE\n\\item[ggplot2] TRUE\n\\end{description*}\n",
            "text/markdown": "viridis\n:   TRUEskimr\n:   TRUEmlr3verse\n:   TRUEdata.table\n:   TRUErchallenge\n:   TRUEranger\n:   TRUEggplot2\n:   TRUE\n\n",
            "text/html": [
              "<style>\n",
              ".dl-inline {width: auto; margin:0; padding: 0}\n",
              ".dl-inline>dt, .dl-inline>dd {float: none; width: auto; display: inline-block}\n",
              ".dl-inline>dt::after {content: \":\\0020\"; padding-right: .5ex}\n",
              ".dl-inline>dt:not(:first-of-type) {padding-left: .5ex}\n",
              "</style><dl class=dl-inline><dt>viridis</dt><dd>TRUE</dd><dt>skimr</dt><dd>TRUE</dd><dt>mlr3verse</dt><dd>TRUE</dd><dt>data.table</dt><dd>TRUE</dd><dt>rchallenge</dt><dd>TRUE</dd><dt>ranger</dt><dd>TRUE</dd><dt>ggplot2</dt><dd>TRUE</dd></dl>\n"
            ]
          },
          "metadata": {
            "tags": []
          }
        }
      ]
    },
    {
      "cell_type": "markdown",
      "metadata": {
        "id": "33FnQ8-QzeJ_"
      },
      "source": [
        "## Introduction to mlr3\n",
        "\n",
        "This workbook is heavily based on an introduction by the mlr3 team: Binder, et al. (2020, March 11). mlr3gallery: mlr3 Basics - German Credit. Retrieved from https://mlr3gallery.mlr-org.com/posts/2020-03-11-basics-german-credit/\n",
        "\n",
        "They have lots of great resources on their website. If you want to learn more check it out!"
      ]
    },
    {
      "cell_type": "markdown",
      "metadata": {
        "id": "SOHcyGBKClg1"
      },
      "source": [
        "### Machine Learning Use Case: German Credit Data"
      ]
    },
    {
      "cell_type": "markdown",
      "metadata": {
        "id": "phEhLlt1xDLp"
      },
      "source": [
        "The dataset is part of the rchallenge package (it is also part of the UCI Machine Learning Repository). The goal is to classify people by their credit risk (good or bad) using 20 personal, demographic and financial features."
      ]
    },
    {
      "cell_type": "code",
      "metadata": {
        "colab": {
          "base_uri": "https://localhost:8080/"
        },
        "id": "x6MTeFvv18U5",
        "outputId": "37b4a75f-4726-4f72-ab60-ed6b2eac47ca"
      },
      "source": [
        "data(\"german\", package = \"rchallenge\")\n",
        "\n",
        "str(german)\n"
      ],
      "execution_count": 4,
      "outputs": [
        {
          "output_type": "stream",
          "text": [
            "'data.frame':\t1000 obs. of  21 variables:\n",
            " $ status                 : Factor w/ 4 levels \"no checking account\",..: 1 1 2 1 1 1 1 1 4 2 ...\n",
            " $ duration               : int  18 9 12 12 12 10 8 6 18 24 ...\n",
            " $ credit_history         : Factor w/ 5 levels \"delay in paying off in the past\",..: 5 5 3 5 5 5 5 5 5 3 ...\n",
            " $ purpose                : Factor w/ 11 levels \"others\",\"car (new)\",..: 3 1 10 1 1 1 1 1 4 4 ...\n",
            " $ amount                 : int  1049 2799 841 2122 2171 2241 3398 1361 1098 3758 ...\n",
            " $ savings                : Factor w/ 5 levels \"unknown/no savings account\",..: 1 1 2 1 1 1 1 1 1 3 ...\n",
            " $ employment_duration    : Factor w/ 5 levels \"unemployed\",\"< 1 yr\",..: 2 3 4 3 3 2 4 2 1 1 ...\n",
            " $ installment_rate       : Ord.factor w/ 4 levels \">= 35\"<\"25 <= ... < 35\"<..: 4 2 2 3 4 1 1 2 4 1 ...\n",
            " $ personal_status_sex    : Factor w/ 4 levels \"male : divorced/separated\",..: 2 3 2 3 3 3 3 3 2 2 ...\n",
            " $ other_debtors          : Factor w/ 3 levels \"none\",\"co-applicant\",..: 1 1 1 1 1 1 1 1 1 1 ...\n",
            " $ present_residence      : Ord.factor w/ 4 levels \"< 1 yr\"<\"1 <= ... < 4 yrs\"<..: 4 2 4 2 4 3 4 4 4 4 ...\n",
            " $ property               : Factor w/ 4 levels \"unknown / no property\",..: 2 1 1 1 2 1 1 1 3 4 ...\n",
            " $ age                    : int  21 36 23 39 38 48 39 40 65 23 ...\n",
            " $ other_installment_plans: Factor w/ 3 levels \"bank\",\"stores\",..: 3 3 3 3 1 3 3 3 3 3 ...\n",
            " $ housing                : Factor w/ 3 levels \"for free\",\"rent\",..: 1 1 1 1 2 1 2 2 2 1 ...\n",
            " $ number_credits         : Ord.factor w/ 4 levels \"1\"<\"2-3\"<\"4-5\"<..: 1 2 1 2 2 2 2 1 2 1 ...\n",
            " $ job                    : Factor w/ 4 levels \"unemployed/unskilled - non-resident\",..: 3 3 2 2 2 2 2 2 1 1 ...\n",
            " $ people_liable          : Factor w/ 2 levels \"3 or more\",\"0 to 2\": 2 1 2 1 2 1 2 1 2 2 ...\n",
            " $ telephone              : Factor w/ 2 levels \"no\",\"yes (under customer name)\": 1 1 1 1 1 1 1 1 1 1 ...\n",
            " $ foreign_worker         : Factor w/ 2 levels \"yes\",\"no\": 2 2 2 1 1 1 1 1 2 2 ...\n",
            " $ credit_risk            : Factor w/ 2 levels \"bad\",\"good\": 2 2 2 2 2 2 2 2 2 2 ...\n"
          ],
          "name": "stdout"
        }
      ]
    },
    {
      "cell_type": "code",
      "metadata": {
        "colab": {
          "base_uri": "https://localhost:8080/"
        },
        "id": "C6dX9Rol8Rfx",
        "outputId": "c1582f04-5284-459b-9424-de3ec87c02b1"
      },
      "source": [
        "skimr::skim(german)"
      ],
      "execution_count": 5,
      "outputs": [
        {
          "output_type": "stream",
          "text": [
            "── Data Summary ────────────────────────\n",
            "                           Values\n",
            "Name                       german\n",
            "Number of rows             1000  \n",
            "Number of columns          21    \n",
            "_______________________          \n",
            "Column type frequency:           \n",
            "  factor                   18    \n",
            "  numeric                  3     \n",
            "________________________         \n",
            "Group variables            None  \n",
            "\n",
            "── Variable type: factor ───────────────────────────────────────────────────────\n",
            "   skim_variable           n_missing complete_rate ordered n_unique\n",
            " 1 status                          0             1 FALSE          4\n",
            " 2 credit_history                  0             1 FALSE          5\n",
            " 3 purpose                         0             1 FALSE         10\n",
            " 4 savings                         0             1 FALSE          5\n",
            " 5 employment_duration             0             1 FALSE          5\n",
            " 6 installment_rate                0             1 TRUE           4\n",
            " 7 personal_status_sex             0             1 FALSE          4\n",
            " 8 other_debtors                   0             1 FALSE          3\n",
            " 9 present_residence               0             1 TRUE           4\n",
            "10 property                        0             1 FALSE          4\n",
            "11 other_installment_plans         0             1 FALSE          3\n",
            "12 housing                         0             1 FALSE          3\n",
            "13 number_credits                  0             1 TRUE           4\n",
            "14 job                             0             1 FALSE          4\n",
            "15 people_liable                   0             1 FALSE          2\n",
            "16 telephone                       0             1 FALSE          2\n",
            "17 foreign_worker                  0             1 FALSE          2\n",
            "18 credit_risk                     0             1 FALSE          2\n",
            "   top_counts                            \n",
            " 1 ...: 394, no : 274, ...: 269, 0<=: 63 \n",
            " 2 no : 530, all: 293, exi: 88, cri: 49  \n",
            " 3 fur: 280, oth: 234, car: 181, car: 103\n",
            " 4 unk: 603, ...: 183, ...: 103, 100: 63 \n",
            " 5 1 <: 339, >= : 253, 4 <: 174, < 1: 172\n",
            " 6 < 2: 476, 25 : 231, 20 : 157, >= : 136\n",
            " 7 mal: 548, fem: 310, fem: 92, mal: 50  \n",
            " 8 non: 907, gua: 52, co-: 41            \n",
            " 9 >= : 413, 1 <: 308, 4 <: 149, < 1: 130\n",
            "10 bui: 332, unk: 282, car: 232, rea: 154\n",
            "11 non: 814, ban: 139, sto: 47           \n",
            "12 ren: 714, for: 179, own: 107          \n",
            "13 1: 633, 2-3: 333, 4-5: 28, >= : 6     \n",
            "14 ski: 630, uns: 200, man: 148, une: 22 \n",
            "15 0 t: 845, 3 o: 155                    \n",
            "16 no: 596, yes: 404                     \n",
            "17 no: 963, yes: 37                      \n",
            "18 goo: 700, bad: 300                    \n",
            "\n",
            "── Variable type: numeric ──────────────────────────────────────────────────────\n",
            "  skim_variable n_missing complete_rate   mean     sd    p0   p25   p50   p75\n",
            "1 duration              0             1   20.9   12.1     4   12    18    24 \n",
            "2 amount                0             1 3271.  2823.    250 1366. 2320. 3972.\n",
            "3 age                   0             1   35.5   11.4    19   27    33    42 \n",
            "   p100 hist \n",
            "1    72 ▇▇▂▁▁\n",
            "2 18424 ▇▂▁▁▁\n",
            "3    75 ▇▆▃▁▁\n"
          ],
          "name": "stdout"
        }
      ]
    },
    {
      "cell_type": "markdown",
      "metadata": {
        "id": "sGQKbteK82Co"
      },
      "source": [
        "## Modelling\n",
        "\n",
        "Considering how we are going to tackle the problem of classifying the credit risk relates closely to what mlr3 entities we will use.\n",
        "\n",
        "The typical questions that arise when building a machine learning workflow are:\n",
        "\n",
        "* What is the problem we are trying to solve?\n",
        "* What are appropriate learning algorithms?\n",
        "* How do we evaluate “good” performance?\n",
        "\n",
        "More systematically in mlr3 they can be expressed via five components:\n",
        "\n",
        "* The Task definition.\n",
        "* The Learner definition.\n",
        "* The training.\n",
        "* The prediction.\n",
        "* The evaluation via one or multiple Measures."
      ]
    },
    {
      "cell_type": "markdown",
      "metadata": {
        "id": "_GN8N_Z99RFR"
      },
      "source": [
        "### Task Definition\n",
        "\n",
        "First, we are interested in the target which we want to model. Most supervised machine learning problems are regression or classification problems. However, note that other problems include unsupervised learning or time-to-event data (covered in mlr3proba).\n",
        "\n",
        "Within mlr3, to distinguish between these problems, we define Tasks. If we want to solve a classification problem, we define a classification task – TaskClassif. For a regression problem, we define a regression task – TaskRegr.\n",
        "\n",
        "In our case it is clearly our objective to model or predict the binary factor variable credit_risk. Thus, we define a TaskClassif:\n"
      ]
    },
    {
      "cell_type": "code",
      "metadata": {
        "id": "1UT4Ules9ahv"
      },
      "source": [
        "task = TaskClassif$new(\"GermanCredit\", german, target = \"credit_risk\")"
      ],
      "execution_count": 6,
      "outputs": []
    },
    {
      "cell_type": "markdown",
      "metadata": {
        "id": "Ltir3_mb9ePw"
      },
      "source": [
        "### Learner Definition\n",
        "\n",
        "After having decided what should be modeled, we need to decide on how it should be modeled. This means we need to decide which learning algorithms, or Learners are appropriate. Using prior knowledge (e.g. knowing that it is a classification task or assuming that the classes are linearly separable) one ends up with one or more suitable Learners.\n",
        "\n",
        "Many learners can be obtained via the mlr3learners package. Additionally, many learners are provided via the mlr3extralearners package, from GitHub. These two resources combined account for a large fraction of standard learning algorithms. As mlr3 usually only wraps learners from packages, it is also easy to create a formal Learner by yourself. You may find the section about extending mlr3 in the mlr3book very helpful. If you happen to write your own Learner in mlr3, the mlr3 team would be happy if you share it with the mlr3 community.\n",
        "\n",
        "All available Learners (i.e. all which you have installed from mlr3, mlr3learners, mlr3extralearners, or self-written ones) are registered in the dictionary mlr_learners:"
      ]
    },
    {
      "cell_type": "code",
      "metadata": {
        "colab": {
          "base_uri": "https://localhost:8080/",
          "height": 238
        },
        "id": "ig5CMZVr-EFn",
        "outputId": "0fb41e7a-5899-485f-9984-8cc86ceb1c2e"
      },
      "source": [
        "mlr_learners"
      ],
      "execution_count": 7,
      "outputs": [
        {
          "output_type": "display_data",
          "data": {
            "text/plain": [
              "<DictionaryLearner> with 51 stored values\n",
              "Keys: classif.cv_glmnet, classif.debug, classif.featureless,\n",
              "  classif.glmnet, classif.kknn, classif.lda, classif.log_reg,\n",
              "  classif.multinom, classif.naive_bayes, classif.nnet, classif.qda,\n",
              "  classif.ranger, classif.rpart, classif.svm, classif.xgboost,\n",
              "  clust.agnes, clust.ap, clust.cmeans, clust.cobweb, clust.dbscan,\n",
              "  clust.diana, clust.em, clust.fanny, clust.featureless, clust.ff,\n",
              "  clust.kkmeans, clust.kmeans, clust.MBatchKMeans, clust.meanshift,\n",
              "  clust.pam, clust.SimpleKMeans, clust.xmeans, dens.hist, dens.kde,\n",
              "  regr.cv_glmnet, regr.featureless, regr.glmnet, regr.kknn, regr.km,\n",
              "  regr.lm, regr.ranger, regr.rpart, regr.svm, regr.xgboost, surv.coxph,\n",
              "  surv.cv_glmnet, surv.glmnet, surv.kaplan, surv.ranger, surv.rpart,\n",
              "  surv.xgboost"
            ]
          },
          "metadata": {
            "tags": []
          }
        }
      ]
    },
    {
      "cell_type": "markdown",
      "metadata": {
        "id": "jmVW4R15-Hw5"
      },
      "source": [
        "For our problem, a suitable learner could be one of the following: Logistic regression, CART, random forest (or many more).\n",
        "\n",
        "A learner can be initialized with the lrn() function and the name of the learner, e.g., lrn(\"classif.xxx\"). Use ?mlr_learners_xxx to open the help page of a learner named xxx.\n",
        "\n",
        "For example, a logistic regression can be initialized in the following manner (logistic regression uses R’s glm() function and is provided by the mlr3learners package):"
      ]
    },
    {
      "cell_type": "code",
      "metadata": {
        "colab": {
          "base_uri": "https://localhost:8080/"
        },
        "id": "9wp8--Kq-SYH",
        "outputId": "97efbba1-4db6-4d63-e0e6-e9d8f6ddd28a"
      },
      "source": [
        "library(\"mlr3learners\")\n",
        "learner_logreg = lrn(\"classif.log_reg\")\n",
        "print(learner_logreg)"
      ],
      "execution_count": 9,
      "outputs": [
        {
          "output_type": "stream",
          "text": [
            "Loading required package: mlr3\n",
            "\n"
          ],
          "name": "stderr"
        },
        {
          "output_type": "stream",
          "text": [
            "<LearnerClassifLogReg:classif.log_reg>\n",
            "* Model: -\n",
            "* Parameters: list()\n",
            "* Packages: stats\n",
            "* Predict Type: response\n",
            "* Feature types: logical, integer, numeric, character, factor, ordered\n",
            "* Properties: twoclass, weights\n"
          ],
          "name": "stdout"
        }
      ]
    },
    {
      "cell_type": "markdown",
      "metadata": {
        "id": "i8ZmtLEF-fHz"
      },
      "source": [
        "### Training \n",
        "\n",
        "Training is the procedure, where a model is fitted on the (training) data.\n",
        "\n",
        "#### LOGISTIC REGRESSION\n",
        "\n",
        "We start with the example of logistic regression. However, you will immediately see that the procedure generalizes to any learner very easily.\n",
        "\n",
        "An initialized learner can be trained on data using $train():\n",
        "\n",
        "\n"
      ]
    },
    {
      "cell_type": "code",
      "metadata": {
        "id": "NnD3eNmb-saX"
      },
      "source": [
        "learner_logreg$train(task)\n"
      ],
      "execution_count": 10,
      "outputs": []
    },
    {
      "cell_type": "markdown",
      "metadata": {
        "id": "E4ASvPMu-tBT"
      },
      "source": [
        "Typically, in machine learning, one does not use the full data which is available but a subset, the so-called training data.\n",
        "\n",
        "To efficiently perform a split of the data one could do the following:\n",
        "\n"
      ]
    },
    {
      "cell_type": "code",
      "metadata": {
        "id": "5EpVUyOW-yy0"
      },
      "source": [
        "train_set = sample(task$row_ids, 0.8 * task$nrow)\n",
        "test_set = setdiff(task$row_ids, train_set)\n"
      ],
      "execution_count": 11,
      "outputs": []
    },
    {
      "cell_type": "markdown",
      "metadata": {
        "id": "OKaZv5A3-2fD"
      },
      "source": [
        "80 percent of the data is used for training. The remaining 20 percent are used for evaluation at a subsequent later point in time. train_set is an integer vector referring to the selected rows of the original dataset:\n",
        "\n"
      ]
    },
    {
      "cell_type": "code",
      "metadata": {
        "colab": {
          "base_uri": "https://localhost:8080/",
          "height": 34
        },
        "id": "UpkQzXaU-7e8",
        "outputId": "a77afbce-9a7e-4dca-ea90-5561e0fb98f8"
      },
      "source": [
        "head(train_set)"
      ],
      "execution_count": 12,
      "outputs": [
        {
          "output_type": "display_data",
          "data": {
            "text/plain": [
              "[1]  46 711 628 809 798 987"
            ],
            "text/latex": "\\begin{enumerate*}\n\\item 46\n\\item 711\n\\item 628\n\\item 809\n\\item 798\n\\item 987\n\\end{enumerate*}\n",
            "text/markdown": "1. 46\n2. 711\n3. 628\n4. 809\n5. 798\n6. 987\n\n\n",
            "text/html": [
              "<style>\n",
              ".list-inline {list-style: none; margin:0; padding: 0}\n",
              ".list-inline>li {display: inline-block}\n",
              ".list-inline>li:not(:last-child)::after {content: \"\\00b7\"; padding: 0 .5ex}\n",
              "</style>\n",
              "<ol class=list-inline><li>46</li><li>711</li><li>628</li><li>809</li><li>798</li><li>987</li></ol>\n"
            ]
          },
          "metadata": {
            "tags": []
          }
        }
      ]
    },
    {
      "cell_type": "markdown",
      "metadata": {
        "id": "J-QLMsug-9T4"
      },
      "source": [
        "In mlr3 the training with a subset of the data can be declared by the additional argument row_ids = train_set:\n",
        "\n"
      ]
    },
    {
      "cell_type": "code",
      "metadata": {
        "id": "xs_ZPScH-_z7"
      },
      "source": [
        "learner_logreg$train(task, row_ids = train_set)"
      ],
      "execution_count": 13,
      "outputs": []
    },
    {
      "cell_type": "markdown",
      "metadata": {
        "id": "FE4Y_El6_C2f"
      },
      "source": [
        "The fitted model can be accessed via:"
      ]
    },
    {
      "cell_type": "code",
      "metadata": {
        "colab": {
          "base_uri": "https://localhost:8080/",
          "height": 1000
        },
        "id": "Um0wdC7H_EYu",
        "outputId": "16c8e0e0-bfbc-4338-8c6a-1592fd7fa6dd"
      },
      "source": [
        "learner_logreg$model"
      ],
      "execution_count": 14,
      "outputs": [
        {
          "output_type": "display_data",
          "data": {
            "text/plain": [
              "\n",
              "Call:  stats::glm(formula = task$formula(), family = \"binomial\", data = task$data(), \n",
              "    model = FALSE)\n",
              "\n",
              "Coefficients:\n",
              "                                              (Intercept)  \n",
              "                                               -1.4373237  \n",
              "                                                      age  \n",
              "                                                0.0137829  \n",
              "                                                   amount  \n",
              "                                               -0.0001629  \n",
              "   credit_historycritical account/other credits elsewhere  \n",
              "                                                0.1593185  \n",
              "credit_historyno credits taken/all credits paid back duly  \n",
              "                                                0.9038110  \n",
              "   credit_historyexisting credits paid back duly till now  \n",
              "                                                1.1002593  \n",
              "    credit_historyall credits at this bank paid back duly  \n",
              "                                                1.4918728  \n",
              "                                                 duration  \n",
              "                                               -0.0214576  \n",
              "                                employment_duration< 1 yr  \n",
              "                                               -0.4386457  \n",
              "                      employment_duration1 <= ... < 4 yrs  \n",
              "                                               -0.0388543  \n",
              "                      employment_duration4 <= ... < 7 yrs  \n",
              "                                                0.4119521  \n",
              "                              employment_duration>= 7 yrs  \n",
              "                                               -0.0638865  \n",
              "                                         foreign_workerno  \n",
              "                                               -1.4853100  \n",
              "                                              housingrent  \n",
              "                                                0.6455274  \n",
              "                                               housingown  \n",
              "                                                0.2898041  \n",
              "                                       installment_rate.L  \n",
              "                                               -0.9803094  \n",
              "                                       installment_rate.Q  \n",
              "                                               -0.0688327  \n",
              "                                       installment_rate.C  \n",
              "                                                0.0872126  \n",
              "                                  jobunskilled - resident  \n",
              "                                               -0.3642314  \n",
              "                             jobskilled employee/official  \n",
              "                                               -0.1395799  \n",
              "            jobmanager/self-empl./highly qualif. employee  \n",
              "                                               -0.0826999  \n",
              "                                         number_credits.L  \n",
              "                                               -0.5805285  \n",
              "                                         number_credits.Q  \n",
              "                                               -0.4062065  \n",
              "                                         number_credits.C  \n",
              "                                               -0.2209402  \n",
              "                                other_debtorsco-applicant  \n",
              "                                               -0.3878463  \n",
              "                                   other_debtorsguarantor  \n",
              "                                                1.1204693  \n",
              "                            other_installment_plansstores  \n",
              "                                                0.5133544  \n",
              "                              other_installment_plansnone  \n",
              "                                                0.3339814  \n",
              "                                      people_liable0 to 2  \n",
              "                                                0.3656294  \n",
              "  personal_status_sexfemale : non-single or male : single  \n",
              "                                                0.6105134  \n",
              "                personal_status_sexmale : married/widowed  \n",
              "                                                1.3110327  \n",
              "                       personal_status_sexfemale : single  \n",
              "                                                1.3160130  \n",
              "                                      present_residence.L  \n",
              "                                               -0.3282522  \n",
              "                                      present_residence.Q  \n",
              "                                                0.7339442  \n",
              "                                      present_residence.C  \n",
              "                                               -0.4135571  \n",
              "                                     propertycar or other  \n",
              "                                               -0.2890377  \n",
              "        propertybuilding soc. savings agr./life insurance  \n",
              "                                               -0.3490594  \n",
              "                                      propertyreal estate  \n",
              "                                               -0.3648290  \n",
              "                                         purposecar (new)  \n",
              "                                                1.6497704  \n",
              "                                        purposecar (used)  \n",
              "                                                0.6902176  \n",
              "                               purposefurniture/equipment  \n",
              "                                                1.0603201  \n",
              "                                  purposeradio/television  \n",
              "                                                0.6455920  \n",
              "                               purposedomestic appliances  \n",
              "                                                0.2720985  \n",
              "                                           purposerepairs  \n",
              "                                               -0.0095349  \n",
              "                                          purposevacation  \n",
              "                                                1.7892371  \n",
              "                                        purposeretraining  \n",
              "                                                0.8142489  \n",
              "                                          purposebusiness  \n",
              "                                                1.6060514  \n",
              "                                     savings... <  100 DM  \n",
              "                                                0.4913753  \n",
              "                              savings100 <= ... <  500 DM  \n",
              "                                                0.3417307  \n",
              "                              savings500 <= ... < 1000 DM  \n",
              "                                                1.8247111  \n",
              "                                    savings... >= 1000 DM  \n",
              "                                                1.1274280  \n",
              "                                         status... < 0 DM  \n",
              "                                                0.2952095  \n",
              "                                   status0<= ... < 200 DM  \n",
              "                                                0.7627769  \n",
              "         status... >= 200 DM / salary for at least 1 year  \n",
              "                                                1.7095679  \n",
              "                       telephoneyes (under customer name)  \n",
              "                                                0.5052086  \n",
              "\n",
              "Degrees of Freedom: 799 Total (i.e. Null);  745 Residual\n",
              "Null Deviance:\t    963.4 \n",
              "Residual Deviance: 685.8 \tAIC: 795.8"
            ]
          },
          "metadata": {
            "tags": []
          }
        }
      ]
    },
    {
      "cell_type": "markdown",
      "metadata": {
        "id": "7cbXHEk-_Rgz"
      },
      "source": [
        "The stored object is a normal glm object and all its S3 methods work as expected:\n",
        "\n"
      ]
    },
    {
      "cell_type": "code",
      "metadata": {
        "colab": {
          "base_uri": "https://localhost:8080/",
          "height": 34
        },
        "id": "Oylr_jQf_TMq",
        "outputId": "160bff68-df2d-4049-c440-dffe80bd90e1"
      },
      "source": [
        "class(learner_logreg$model)"
      ],
      "execution_count": 16,
      "outputs": [
        {
          "output_type": "display_data",
          "data": {
            "text/plain": [
              "[1] \"glm\" \"lm\" "
            ],
            "text/latex": "\\begin{enumerate*}\n\\item 'glm'\n\\item 'lm'\n\\end{enumerate*}\n",
            "text/markdown": "1. 'glm'\n2. 'lm'\n\n\n",
            "text/html": [
              "<style>\n",
              ".list-inline {list-style: none; margin:0; padding: 0}\n",
              ".list-inline>li {display: inline-block}\n",
              ".list-inline>li:not(:last-child)::after {content: \"\\00b7\"; padding: 0 .5ex}\n",
              "</style>\n",
              "<ol class=list-inline><li>'glm'</li><li>'lm'</li></ol>\n"
            ]
          },
          "metadata": {
            "tags": []
          }
        }
      ]
    },
    {
      "cell_type": "code",
      "metadata": {
        "colab": {
          "base_uri": "https://localhost:8080/",
          "height": 1000
        },
        "id": "P27Rib69_TsG",
        "outputId": "918e2300-81c5-4d26-81b2-34f37a3599a0"
      },
      "source": [
        "summary(learner_logreg$model)"
      ],
      "execution_count": 15,
      "outputs": [
        {
          "output_type": "display_data",
          "data": {
            "text/plain": [
              "\n",
              "Call:\n",
              "stats::glm(formula = task$formula(), family = \"binomial\", data = task$data(), \n",
              "    model = FALSE)\n",
              "\n",
              "Deviance Residuals: \n",
              "    Min       1Q   Median       3Q      Max  \n",
              "-3.1431  -0.6098   0.3489   0.6733   2.1762  \n",
              "\n",
              "Coefficients:\n",
              "                                                            Estimate Std. Error\n",
              "(Intercept)                                               -1.437e+00  1.352e+00\n",
              "age                                                        1.378e-02  1.081e-02\n",
              "amount                                                    -1.629e-04  5.124e-05\n",
              "credit_historycritical account/other credits elsewhere     1.593e-01  6.685e-01\n",
              "credit_historyno credits taken/all credits paid back duly  9.038e-01  5.319e-01\n",
              "credit_historyexisting credits paid back duly till now     1.100e+00  5.751e-01\n",
              "credit_historyall credits at this bank paid back duly      1.492e+00  5.348e-01\n",
              "duration                                                  -2.146e-02  1.105e-02\n",
              "employment_duration< 1 yr                                 -4.386e-01  5.237e-01\n",
              "employment_duration1 <= ... < 4 yrs                       -3.885e-02  4.961e-01\n",
              "employment_duration4 <= ... < 7 yrs                        4.120e-01  5.444e-01\n",
              "employment_duration>= 7 yrs                               -6.389e-02  5.010e-01\n",
              "foreign_workerno                                          -1.485e+00  7.388e-01\n",
              "housingrent                                                6.455e-01  2.711e-01\n",
              "housingown                                                 2.898e-01  5.525e-01\n",
              "installment_rate.L                                        -9.803e-01  2.604e-01\n",
              "installment_rate.Q                                        -6.883e-02  2.293e-01\n",
              "installment_rate.C                                         8.721e-02  2.331e-01\n",
              "jobunskilled - resident                                   -3.642e-01  7.948e-01\n",
              "jobskilled employee/official                              -1.396e-01  7.638e-01\n",
              "jobmanager/self-empl./highly qualif. employee             -8.270e-02  7.716e-01\n",
              "number_credits.L                                          -5.805e-01  8.461e-01\n",
              "number_credits.Q                                          -4.062e-01  7.000e-01\n",
              "number_credits.C                                          -2.209e-01  5.147e-01\n",
              "other_debtorsco-applicant                                 -3.878e-01  4.512e-01\n",
              "other_debtorsguarantor                                     1.120e+00  5.174e-01\n",
              "other_installment_plansstores                              5.134e-01  5.623e-01\n",
              "other_installment_plansnone                                3.340e-01  2.915e-01\n",
              "people_liable0 to 2                                        3.656e-01  2.828e-01\n",
              "personal_status_sexfemale : non-single or male : single    6.105e-01  4.493e-01\n",
              "personal_status_sexmale : married/widowed                  1.311e+00  4.405e-01\n",
              "personal_status_sexfemale : single                         1.316e+00  5.566e-01\n",
              "present_residence.L                                       -3.283e-01  2.529e-01\n",
              "present_residence.Q                                        7.339e-01  2.354e-01\n",
              "present_residence.C                                       -4.136e-01  2.321e-01\n",
              "propertycar or other                                      -2.890e-01  2.929e-01\n",
              "propertybuilding soc. savings agr./life insurance         -3.491e-01  2.751e-01\n",
              "propertyreal estate                                       -3.648e-01  5.057e-01\n",
              "purposecar (new)                                           1.650e+00  4.356e-01\n",
              "purposecar (used)                                          6.902e-01  2.932e-01\n",
              "purposefurniture/equipment                                 1.060e+00  2.941e-01\n",
              "purposeradio/television                                    6.456e-01  9.496e-01\n",
              "purposedomestic appliances                                 2.721e-01  6.054e-01\n",
              "purposerepairs                                            -9.535e-03  4.649e-01\n",
              "purposevacation                                            1.789e+00  1.173e+00\n",
              "purposeretraining                                          8.142e-01  3.997e-01\n",
              "purposebusiness                                            1.606e+00  9.514e-01\n",
              "savings... <  100 DM                                       4.914e-01  3.486e-01\n",
              "savings100 <= ... <  500 DM                                3.417e-01  4.413e-01\n",
              "savings500 <= ... < 1000 DM                                1.825e+00  6.510e-01\n",
              "savings... >= 1000 DM                                      1.127e+00  3.107e-01\n",
              "status... < 0 DM                                           2.952e-01  2.544e-01\n",
              "status0<= ... < 200 DM                                     7.628e-01  4.381e-01\n",
              "status... >= 200 DM / salary for at least 1 year           1.710e+00  2.743e-01\n",
              "telephoneyes (under customer name)                         5.052e-01  2.348e-01\n",
              "                                                          z value Pr(>|z|)    \n",
              "(Intercept)                                                -1.063 0.287622    \n",
              "age                                                         1.276 0.202129    \n",
              "amount                                                     -3.180 0.001474 ** \n",
              "credit_historycritical account/other credits elsewhere      0.238 0.811625    \n",
              "credit_historyno credits taken/all credits paid back duly   1.699 0.089285 .  \n",
              "credit_historyexisting credits paid back duly till now      1.913 0.055728 .  \n",
              "credit_historyall credits at this bank paid back duly       2.789 0.005279 ** \n",
              "duration                                                   -1.943 0.052049 .  \n",
              "employment_duration< 1 yr                                  -0.838 0.402273    \n",
              "employment_duration1 <= ... < 4 yrs                        -0.078 0.937573    \n",
              "employment_duration4 <= ... < 7 yrs                         0.757 0.449241    \n",
              "employment_duration>= 7 yrs                                -0.128 0.898524    \n",
              "foreign_workerno                                           -2.010 0.044399 *  \n",
              "housingrent                                                 2.381 0.017254 *  \n",
              "housingown                                                  0.525 0.599880    \n",
              "installment_rate.L                                         -3.765 0.000166 ***\n",
              "installment_rate.Q                                         -0.300 0.764028    \n",
              "installment_rate.C                                          0.374 0.708326    \n",
              "jobunskilled - resident                                    -0.458 0.646768    \n",
              "jobskilled employee/official                               -0.183 0.854996    \n",
              "jobmanager/self-empl./highly qualif. employee              -0.107 0.914642    \n",
              "number_credits.L                                           -0.686 0.492647    \n",
              "number_credits.Q                                           -0.580 0.561722    \n",
              "number_credits.C                                           -0.429 0.667732    \n",
              "other_debtorsco-applicant                                  -0.860 0.390038    \n",
              "other_debtorsguarantor                                      2.166 0.030338 *  \n",
              "other_installment_plansstores                               0.913 0.361299    \n",
              "other_installment_plansnone                                 1.146 0.251844    \n",
              "people_liable0 to 2                                         1.293 0.196057    \n",
              "personal_status_sexfemale : non-single or male : single     1.359 0.174188    \n",
              "personal_status_sexmale : married/widowed                   2.976 0.002917 ** \n",
              "personal_status_sexfemale : single                          2.364 0.018064 *  \n",
              "present_residence.L                                        -1.298 0.194249    \n",
              "present_residence.Q                                         3.118 0.001821 ** \n",
              "present_residence.C                                        -1.782 0.074769 .  \n",
              "propertycar or other                                       -0.987 0.323793    \n",
              "propertybuilding soc. savings agr./life insurance          -1.269 0.204550    \n",
              "propertyreal estate                                        -0.721 0.470635    \n",
              "purposecar (new)                                            3.787 0.000152 ***\n",
              "purposecar (used)                                           2.354 0.018575 *  \n",
              "purposefurniture/equipment                                  3.606 0.000311 ***\n",
              "purposeradio/television                                     0.680 0.496587    \n",
              "purposedomestic appliances                                  0.449 0.653118    \n",
              "purposerepairs                                             -0.021 0.983636    \n",
              "purposevacation                                             1.525 0.127229    \n",
              "purposeretraining                                           2.037 0.041651 *  \n",
              "purposebusiness                                             1.688 0.091401 .  \n",
              "savings... <  100 DM                                        1.409 0.158714    \n",
              "savings100 <= ... <  500 DM                                 0.774 0.438758    \n",
              "savings500 <= ... < 1000 DM                                 2.803 0.005061 ** \n",
              "savings... >= 1000 DM                                       3.628 0.000286 ***\n",
              "status... < 0 DM                                            1.160 0.245863    \n",
              "status0<= ... < 200 DM                                      1.741 0.081671 .  \n",
              "status... >= 200 DM / salary for at least 1 year            6.232  4.6e-10 ***\n",
              "telephoneyes (under customer name)                          2.152 0.031394 *  \n",
              "---\n",
              "Signif. codes:  0 ‘***’ 0.001 ‘**’ 0.01 ‘*’ 0.05 ‘.’ 0.1 ‘ ’ 1\n",
              "\n",
              "(Dispersion parameter for binomial family taken to be 1)\n",
              "\n",
              "    Null deviance: 963.44  on 799  degrees of freedom\n",
              "Residual deviance: 685.81  on 745  degrees of freedom\n",
              "AIC: 795.81\n",
              "\n",
              "Number of Fisher Scoring iterations: 5\n"
            ]
          },
          "metadata": {
            "tags": []
          }
        }
      ]
    },
    {
      "cell_type": "markdown",
      "metadata": {
        "id": "V706gu77_d8r"
      },
      "source": [
        "RANDOM FOREST\n",
        "\n",
        "Just like the logistic regression, we could train a random forest instead. We use the fast implementation from the ranger package. For this, we first need to define the learner and then actually train it.\n",
        "\n",
        "We now additionally supply the importance argument (importance = \"permutation\"). Doing so, we override the default and let the learner do feature importance determination based on permutation feature importance:"
      ]
    },
    {
      "cell_type": "code",
      "metadata": {
        "id": "nbDgWpCN_uew"
      },
      "source": [
        "learner_rf = lrn(\"classif.ranger\", importance = \"permutation\")\n",
        "learner_rf$train(task, row_ids = train_set)"
      ],
      "execution_count": 19,
      "outputs": []
    },
    {
      "cell_type": "markdown",
      "metadata": {
        "id": "Ojf9OOEP_2nw"
      },
      "source": [
        "We can access the importance values using $importance():"
      ]
    },
    {
      "cell_type": "code",
      "metadata": {
        "colab": {
          "base_uri": "https://localhost:8080/",
          "height": 119
        },
        "id": "inMysFbn_3gA",
        "outputId": "6d8a90a3-baa5-41f4-d646-953e67639967"
      },
      "source": [
        "learner_rf$importance()"
      ],
      "execution_count": 20,
      "outputs": [
        {
          "output_type": "display_data",
          "data": {
            "text/plain": [
              "                 status                duration                  amount \n",
              "           0.0337611659            0.0129361289            0.0101876142 \n",
              "         credit_history                 savings                     age \n",
              "           0.0088914549            0.0081419947            0.0065995196 \n",
              "       installment_rate                property     personal_status_sex \n",
              "           0.0055512215            0.0049246477            0.0036498765 \n",
              "    employment_duration                 purpose           other_debtors \n",
              "           0.0035629186            0.0030489930            0.0026661194 \n",
              "              telephone                     job       present_residence \n",
              "           0.0025043588            0.0021063419            0.0018547672 \n",
              "other_installment_plans                 housing          number_credits \n",
              "           0.0016895502            0.0016513786            0.0012791809 \n",
              "         foreign_worker           people_liable \n",
              "           0.0006603219            0.0004616304 "
            ],
            "text/latex": "\\begin{description*}\n\\item[status] 0.0337611659412257\n\\item[duration] 0.0129361288884283\n\\item[amount] 0.010187614204559\n\\item[credit\\textbackslash{}\\_history] 0.00889145491568844\n\\item[savings] 0.00814199465584118\n\\item[age] 0.00659951957918418\n\\item[installment\\textbackslash{}\\_rate] 0.00555122154056594\n\\item[property] 0.00492464767339823\n\\item[personal\\textbackslash{}\\_status\\textbackslash{}\\_sex] 0.00364987653702407\n\\item[employment\\textbackslash{}\\_duration] 0.00356291861866774\n\\item[purpose] 0.00304899300881008\n\\item[other\\textbackslash{}\\_debtors] 0.00266611939850092\n\\item[telephone] 0.00250435882542584\n\\item[job] 0.00210634192949743\n\\item[present\\textbackslash{}\\_residence] 0.00185476719144704\n\\item[other\\textbackslash{}\\_installment\\textbackslash{}\\_plans] 0.00168955024403834\n\\item[housing] 0.00165137861933218\n\\item[number\\textbackslash{}\\_credits] 0.00127918089168561\n\\item[foreign\\textbackslash{}\\_worker] 0.000660321919781294\n\\item[people\\textbackslash{}\\_liable] 0.000461630425822759\n\\end{description*}\n",
            "text/markdown": "status\n:   0.0337611659412257duration\n:   0.0129361288884283amount\n:   0.010187614204559credit_history\n:   0.00889145491568844savings\n:   0.00814199465584118age\n:   0.00659951957918418installment_rate\n:   0.00555122154056594property\n:   0.00492464767339823personal_status_sex\n:   0.00364987653702407employment_duration\n:   0.00356291861866774purpose\n:   0.00304899300881008other_debtors\n:   0.00266611939850092telephone\n:   0.00250435882542584job\n:   0.00210634192949743present_residence\n:   0.00185476719144704other_installment_plans\n:   0.00168955024403834housing\n:   0.00165137861933218number_credits\n:   0.00127918089168561foreign_worker\n:   0.000660321919781294people_liable\n:   0.000461630425822759\n\n",
            "text/html": [
              "<style>\n",
              ".dl-inline {width: auto; margin:0; padding: 0}\n",
              ".dl-inline>dt, .dl-inline>dd {float: none; width: auto; display: inline-block}\n",
              ".dl-inline>dt::after {content: \":\\0020\"; padding-right: .5ex}\n",
              ".dl-inline>dt:not(:first-of-type) {padding-left: .5ex}\n",
              "</style><dl class=dl-inline><dt>status</dt><dd>0.0337611659412257</dd><dt>duration</dt><dd>0.0129361288884283</dd><dt>amount</dt><dd>0.010187614204559</dd><dt>credit_history</dt><dd>0.00889145491568844</dd><dt>savings</dt><dd>0.00814199465584118</dd><dt>age</dt><dd>0.00659951957918418</dd><dt>installment_rate</dt><dd>0.00555122154056594</dd><dt>property</dt><dd>0.00492464767339823</dd><dt>personal_status_sex</dt><dd>0.00364987653702407</dd><dt>employment_duration</dt><dd>0.00356291861866774</dd><dt>purpose</dt><dd>0.00304899300881008</dd><dt>other_debtors</dt><dd>0.00266611939850092</dd><dt>telephone</dt><dd>0.00250435882542584</dd><dt>job</dt><dd>0.00210634192949743</dd><dt>present_residence</dt><dd>0.00185476719144704</dd><dt>other_installment_plans</dt><dd>0.00168955024403834</dd><dt>housing</dt><dd>0.00165137861933218</dd><dt>number_credits</dt><dd>0.00127918089168561</dd><dt>foreign_worker</dt><dd>0.000660321919781294</dd><dt>people_liable</dt><dd>0.000461630425822759</dd></dl>\n"
            ]
          },
          "metadata": {
            "tags": []
          }
        }
      ]
    },
    {
      "cell_type": "markdown",
      "metadata": {
        "id": "CMOSKNPMAX2Q"
      },
      "source": [
        "In order to obtain a plot for the importance values, we convert the importance to a data.table and then process it with ggplot2:"
      ]
    },
    {
      "cell_type": "code",
      "metadata": {
        "colab": {
          "base_uri": "https://localhost:8080/",
          "height": 437
        },
        "id": "I8NPWZfLAbf5",
        "outputId": "3788a000-06a7-404e-8997-a036dab6fe4f"
      },
      "source": [
        "importance = as.data.table(learner_rf$importance(), keep.rownames = TRUE)\n",
        "colnames(importance) = c(\"Feature\", \"Importance\")\n",
        "ggplot(importance, aes(x = reorder(Feature, Importance), y = Importance)) +\n",
        "  geom_col() + coord_flip() + xlab(\"\")"
      ],
      "execution_count": 23,
      "outputs": [
        {
          "output_type": "display_data",
          "data": {
            "image/png": "[encoded data removed]",
            "text/plain": [
              "plot without title"
            ]
          },
          "metadata": {
            "tags": [],
            "image/png": {
              "width": 420,
              "height": 420
            }
          }
        }
      ]
    },
    {
      "cell_type": "markdown",
      "metadata": {
        "id": "w7nEBiBIAf3I"
      },
      "source": [
        "### Prediction\n",
        "\n",
        "Let’s see what the models predict.\n",
        "\n",
        "After training a model, the model can be used for prediction. Usually, prediction is the main purpose of machine learning models.\n",
        "\n",
        "In our case, the model can be used to classify new credit applicants w.r.t. their associated credit risk (good vs. bad) on the basis of the features. Typically, machine learning models predict numeric values. In the regression case this is very natural. For classification, most models predict scores or probabilities. Based on these values, one can derive class predictions.\n",
        "\n",
        "PREDICT CLASSES\n",
        "\n",
        "First, we directly predict classes:\n",
        "\n"
      ]
    },
    {
      "cell_type": "code",
      "metadata": {
        "id": "-DFlhCGXAwa3"
      },
      "source": [
        "pred_logreg = learner_logreg$predict(task, row_ids = test_set)\n",
        "pred_rf = learner_rf$predict(task, row_ids = test_set)"
      ],
      "execution_count": 24,
      "outputs": []
    },
    {
      "cell_type": "markdown",
      "metadata": {
        "id": "f561CWzUA3LK"
      },
      "source": [
        "The $predict() method returns a Prediction object. It can be converted to a data.table if one wants to use it downstream.\n",
        "\n",
        "We can also display the prediction results aggregated in a confusion matrix:\n",
        "\n"
      ]
    },
    {
      "cell_type": "code",
      "metadata": {
        "colab": {
          "base_uri": "https://localhost:8080/",
          "height": 153
        },
        "id": "hTfOLaIzA7ZH",
        "outputId": "22c0f21c-e3f2-49ad-9d19-cacf11b0f49b"
      },
      "source": [
        "pred_logreg$confusion\n",
        "\n",
        "pred_rf$confusion"
      ],
      "execution_count": 25,
      "outputs": [
        {
          "output_type": "display_data",
          "data": {
            "text/plain": [
              "        truth\n",
              "response bad good\n",
              "    bad   27   16\n",
              "    good  41  116"
            ]
          },
          "metadata": {
            "tags": []
          }
        },
        {
          "output_type": "display_data",
          "data": {
            "text/plain": [
              "        truth\n",
              "response bad good\n",
              "    bad   25    6\n",
              "    good  43  126"
            ]
          },
          "metadata": {
            "tags": []
          }
        }
      ]
    },
    {
      "cell_type": "markdown",
      "metadata": {
        "id": "vIPmVkcMBAiC"
      },
      "source": [
        "PREDICT PROBABILITIES\n",
        "\n",
        "Most learners may not only predict a class variable (“response”), but also their degree of “belief” / “uncertainty” in a given response. Typically, we achieve this by setting the $predict_type slot of a Learner to \"prob\". Sometimes this needs to be done before the learner is trained. Alternatively, we can directly create the learner with this option: lrn(\"classif.log_reg\", predict_type = \"prob\")."
      ]
    },
    {
      "cell_type": "code",
      "metadata": {
        "colab": {
          "base_uri": "https://localhost:8080/",
          "height": 170
        },
        "id": "syP9LHEZBjXB",
        "outputId": "3ae5a091-021a-458e-81c0-1b7738ffb79a"
      },
      "source": [
        "learner_logreg$predict_type = \"prob\"\n",
        "learner_logreg$predict(task, row_ids = test_set)"
      ],
      "execution_count": 26,
      "outputs": [
        {
          "output_type": "display_data",
          "data": {
            "text/plain": [
              "<PredictionClassif> for 200 observations:\n",
              "    row_ids truth response   prob.bad prob.good\n",
              "          4  good     good 0.35407483 0.6459252\n",
              "          6  good     good 0.16742516 0.8325748\n",
              "         12  good     good 0.10238820 0.8976118\n",
              "---                                            \n",
              "        984   bad      bad 0.78443411 0.2155659\n",
              "        985   bad     good 0.03334372 0.9666563\n",
              "        999   bad     good 0.02165121 0.9783488"
            ]
          },
          "metadata": {
            "tags": []
          }
        }
      ]
    },
    {
      "cell_type": "markdown",
      "metadata": {
        "id": "L6-9RHexBrz7"
      },
      "source": [
        "Note that sometimes one needs to be cautious when dealing with the probability interpretation of the predictions."
      ]
    },
    {
      "cell_type": "markdown",
      "metadata": {
        "id": "TYaU583BByen"
      },
      "source": [
        "### Performance Evaluation\n",
        "\n",
        "To measure the performance of a learner on new unseen data, we usually mimic the scenario of unseen data by splitting up the data into training and test set. The training set is used for training the learner, and the test set is only used for predicting and evaluating the performance of the trained learner. Numerous resampling methods (cross-validation, bootstrap) repeat the splitting process in different ways.\n",
        "\n",
        "Within mlr3, we need to specify the resampling strategy using the rsmp() function:"
      ]
    },
    {
      "cell_type": "code",
      "metadata": {
        "colab": {
          "base_uri": "https://localhost:8080/"
        },
        "id": "lS-BKRZQB5Gw",
        "outputId": "830dc061-83e2-4c34-fef8-ba05b4ffd38b"
      },
      "source": [
        "resampling = rsmp(\"holdout\", ratio = 2/3)\n",
        "print(resampling)"
      ],
      "execution_count": 27,
      "outputs": [
        {
          "output_type": "stream",
          "text": [
            "<ResamplingHoldout> with 1 iterations\n",
            "* Instantiated: FALSE\n",
            "* Parameters: ratio=0.6667\n"
          ],
          "name": "stdout"
        }
      ]
    },
    {
      "cell_type": "markdown",
      "metadata": {
        "id": "b9XqosW8B__D"
      },
      "source": [
        "Here, we use “holdout”, a simple train-test split (with just one iteration). We use the resample() function to undertake the resampling calculation:"
      ]
    },
    {
      "cell_type": "code",
      "metadata": {
        "colab": {
          "base_uri": "https://localhost:8080/",
          "height": 119
        },
        "id": "onU_l8WWCArx",
        "outputId": "36c7f74e-3fc4-485b-e43a-514a194189fb"
      },
      "source": [
        "res = resample(task, learner = learner_logreg, resampling = resampling)\n",
        "res"
      ],
      "execution_count": 28,
      "outputs": [
        {
          "output_type": "stream",
          "text": [
            "INFO  [02:53:48.492] [mlr3]  Applying learner 'classif.log_reg' on task 'GermanCredit' (iter 1/1) \n"
          ],
          "name": "stdout"
        },
        {
          "output_type": "display_data",
          "data": {
            "text/plain": [
              "<ResampleResult> of 1 iterations\n",
              "* Task: GermanCredit\n",
              "* Learner: classif.log_reg\n",
              "* Warnings: 0 in 0 iterations\n",
              "* Errors: 0 in 0 iterations"
            ]
          },
          "metadata": {
            "tags": []
          }
        }
      ]
    },
    {
      "cell_type": "markdown",
      "metadata": {
        "id": "TqZn2KnyCGx7"
      },
      "source": [
        "The default score of the measure is included in the $aggregate() slot:"
      ]
    },
    {
      "cell_type": "code",
      "metadata": {
        "colab": {
          "base_uri": "https://localhost:8080/",
          "height": 34
        },
        "id": "LiTEuSTOCI4s",
        "outputId": "471d5f4e-3a12-4469-fae0-1dac98317c46"
      },
      "source": [
        "res$aggregate()"
      ],
      "execution_count": 29,
      "outputs": [
        {
          "output_type": "display_data",
          "data": {
            "text/plain": [
              "classif.ce \n",
              " 0.2372372 "
            ],
            "text/latex": "\\textbf{classif.ce:} 0.237237237237237",
            "text/markdown": "**classif.ce:** 0.237237237237237",
            "text/html": [
              "<strong>classif.ce:</strong> 0.237237237237237"
            ]
          },
          "metadata": {
            "tags": []
          }
        }
      ]
    },
    {
      "cell_type": "markdown",
      "metadata": {
        "id": "6ioLm8fYCPe1"
      },
      "source": [
        "The default measure in this scenario is the classification error. Lower is better.\n",
        "\n",
        "We can easily run different resampling strategies, e.g. repeated holdout (\"subsampling\"), or cross validation. Most methods perform repeated train/predict cycles on different data subsets and aggregate the result (usually as the mean). Doing this manually would require us to write many loops. mlr3 does the job for us:\n",
        "\n"
      ]
    },
    {
      "cell_type": "code",
      "metadata": {
        "colab": {
          "base_uri": "https://localhost:8080/",
          "height": 204
        },
        "id": "wzh5EQOXCXQ_",
        "outputId": "a702519a-cf81-492f-ecf5-2300810f38b4"
      },
      "source": [
        "resampling = rsmp(\"subsampling\", repeats = 10)\n",
        "rr = resample(task, learner = learner_logreg, resampling = resampling)\n",
        "rr$aggregate()\n"
      ],
      "execution_count": 30,
      "outputs": [
        {
          "output_type": "stream",
          "text": [
            "INFO  [02:55:12.888] [mlr3]  Applying learner 'classif.log_reg' on task 'GermanCredit' (iter 1/10) \n",
            "INFO  [02:55:12.959] [mlr3]  Applying learner 'classif.log_reg' on task 'GermanCredit' (iter 10/10) \n",
            "INFO  [02:55:13.006] [mlr3]  Applying learner 'classif.log_reg' on task 'GermanCredit' (iter 8/10) \n",
            "INFO  [02:55:13.041] [mlr3]  Applying learner 'classif.log_reg' on task 'GermanCredit' (iter 4/10) \n",
            "INFO  [02:55:13.079] [mlr3]  Applying learner 'classif.log_reg' on task 'GermanCredit' (iter 2/10) \n",
            "INFO  [02:55:13.137] [mlr3]  Applying learner 'classif.log_reg' on task 'GermanCredit' (iter 7/10) \n",
            "INFO  [02:55:13.173] [mlr3]  Applying learner 'classif.log_reg' on task 'GermanCredit' (iter 6/10) \n",
            "INFO  [02:55:13.229] [mlr3]  Applying learner 'classif.log_reg' on task 'GermanCredit' (iter 5/10) \n",
            "INFO  [02:55:13.263] [mlr3]  Applying learner 'classif.log_reg' on task 'GermanCredit' (iter 3/10) \n",
            "INFO  [02:55:13.295] [mlr3]  Applying learner 'classif.log_reg' on task 'GermanCredit' (iter 9/10) \n"
          ],
          "name": "stdout"
        },
        {
          "output_type": "display_data",
          "data": {
            "text/plain": [
              "classif.ce \n",
              "  0.260961 "
            ],
            "text/latex": "\\textbf{classif.ce:} 0.260960960960961",
            "text/markdown": "**classif.ce:** 0.260960960960961",
            "text/html": [
              "<strong>classif.ce:</strong> 0.260960960960961"
            ]
          },
          "metadata": {
            "tags": []
          }
        }
      ]
    },
    {
      "cell_type": "markdown",
      "metadata": {
        "id": "Xq97QrPiChcl"
      },
      "source": [
        "Instead, we could also run cross-validation:"
      ]
    },
    {
      "cell_type": "code",
      "metadata": {
        "colab": {
          "base_uri": "https://localhost:8080/",
          "height": 204
        },
        "id": "6i-Alr9WCjGo",
        "outputId": "897bc600-5679-48d5-e235-8baebd5c9a0c"
      },
      "source": [
        "resampling = resampling = rsmp(\"cv\", folds = 10)\n",
        "rr = resample(task, learner = learner_logreg, resampling = resampling)\n",
        "rr$aggregate()"
      ],
      "execution_count": 31,
      "outputs": [
        {
          "output_type": "stream",
          "text": [
            "INFO  [02:56:04.693] [mlr3]  Applying learner 'classif.log_reg' on task 'GermanCredit' (iter 5/10) \n",
            "INFO  [02:56:04.731] [mlr3]  Applying learner 'classif.log_reg' on task 'GermanCredit' (iter 6/10) \n",
            "INFO  [02:56:04.768] [mlr3]  Applying learner 'classif.log_reg' on task 'GermanCredit' (iter 10/10) \n",
            "INFO  [02:56:04.818] [mlr3]  Applying learner 'classif.log_reg' on task 'GermanCredit' (iter 2/10) \n",
            "INFO  [02:56:04.856] [mlr3]  Applying learner 'classif.log_reg' on task 'GermanCredit' (iter 1/10) \n",
            "INFO  [02:56:04.895] [mlr3]  Applying learner 'classif.log_reg' on task 'GermanCredit' (iter 8/10) \n",
            "INFO  [02:56:04.932] [mlr3]  Applying learner 'classif.log_reg' on task 'GermanCredit' (iter 9/10) \n",
            "INFO  [02:56:04.978] [mlr3]  Applying learner 'classif.log_reg' on task 'GermanCredit' (iter 7/10) \n",
            "INFO  [02:56:05.013] [mlr3]  Applying learner 'classif.log_reg' on task 'GermanCredit' (iter 3/10) \n",
            "INFO  [02:56:05.049] [mlr3]  Applying learner 'classif.log_reg' on task 'GermanCredit' (iter 4/10) \n"
          ],
          "name": "stdout"
        },
        {
          "output_type": "display_data",
          "data": {
            "text/plain": [
              "classif.ce \n",
              "      0.25 "
            ],
            "text/latex": "\\textbf{classif.ce:} 0.25",
            "text/markdown": "**classif.ce:** 0.25",
            "text/html": [
              "<strong>classif.ce:</strong> 0.25"
            ]
          },
          "metadata": {
            "tags": []
          }
        }
      ]
    },
    {
      "cell_type": "markdown",
      "metadata": {
        "id": "wZV9Jn-RCrMK"
      },
      "source": [
        "mlr3 features scores for many more measures. Here, we apply mlr_measures_classif.fpr for the false positive rate, and mlr_measures_classif.fnr for the false negative rate. Multiple measures can be provided as a list of measures (which can directly be constructed via msrs()):"
      ]
    },
    {
      "cell_type": "code",
      "metadata": {
        "colab": {
          "base_uri": "https://localhost:8080/",
          "height": 34
        },
        "id": "ecbA-hRqCvL0",
        "outputId": "f26f71c3-1089-4f5d-c0ca-256c60953ea3"
      },
      "source": [
        "# false positive rate\n",
        "rr$aggregate(msr(\"classif.fpr\"))"
      ],
      "execution_count": 32,
      "outputs": [
        {
          "output_type": "display_data",
          "data": {
            "text/plain": [
              "classif.fpr \n",
              "  0.1436942 "
            ],
            "text/latex": "\\textbf{classif.fpr:} 0.14369424424526",
            "text/markdown": "**classif.fpr:** 0.14369424424526",
            "text/html": [
              "<strong>classif.fpr:</strong> 0.14369424424526"
            ]
          },
          "metadata": {
            "tags": []
          }
        }
      ]
    },
    {
      "cell_type": "code",
      "metadata": {
        "colab": {
          "base_uri": "https://localhost:8080/",
          "height": 34
        },
        "id": "puKqMwf1C2eB",
        "outputId": "75dd2622-9207-4d1c-b340-d6166d3a8166"
      },
      "source": [
        "# false positive rate and false negative\n",
        "measures = msrs(c(\"classif.fpr\", \"classif.fnr\"))\n",
        "rr$aggregate(measures)"
      ],
      "execution_count": 33,
      "outputs": [
        {
          "output_type": "display_data",
          "data": {
            "text/plain": [
              "classif.fpr classif.fnr \n",
              "  0.1436942   0.4991722 "
            ],
            "text/latex": "\\begin{description*}\n\\item[classif.fpr] 0.14369424424526\n\\item[classif.fnr] 0.499172226402714\n\\end{description*}\n",
            "text/markdown": "classif.fpr\n:   0.14369424424526classif.fnr\n:   0.499172226402714\n\n",
            "text/html": [
              "<style>\n",
              ".dl-inline {width: auto; margin:0; padding: 0}\n",
              ".dl-inline>dt, .dl-inline>dd {float: none; width: auto; display: inline-block}\n",
              ".dl-inline>dt::after {content: \":\\0020\"; padding-right: .5ex}\n",
              ".dl-inline>dt:not(:first-of-type) {padding-left: .5ex}\n",
              "</style><dl class=dl-inline><dt>classif.fpr</dt><dd>0.14369424424526</dd><dt>classif.fnr</dt><dd>0.499172226402714</dd></dl>\n"
            ]
          },
          "metadata": {
            "tags": []
          }
        }
      ]
    },
    {
      "cell_type": "markdown",
      "metadata": {
        "id": "LZo7trfJCyib"
      },
      "source": [
        "There are a few more resampling methods, and quite a few more measures (implemented in mlr3measures). They are automatically registered in the respective dictionaries:\n",
        "\n"
      ]
    },
    {
      "cell_type": "code",
      "metadata": {
        "colab": {
          "base_uri": "https://localhost:8080/",
          "height": 68
        },
        "id": "f_kwptwqC9A9",
        "outputId": "ed067d75-3bc4-4662-9bde-65ae452f5664"
      },
      "source": [
        "mlr_resamplings"
      ],
      "execution_count": 34,
      "outputs": [
        {
          "output_type": "display_data",
          "data": {
            "text/plain": [
              "<DictionaryResampling> with 8 stored values\n",
              "Keys: bootstrap, custom, cv, holdout, insample, loo, repeated_cv,\n",
              "  subsampling"
            ]
          },
          "metadata": {
            "tags": []
          }
        }
      ]
    },
    {
      "cell_type": "code",
      "metadata": {
        "colab": {
          "base_uri": "https://localhost:8080/",
          "height": 340
        },
        "id": "ndENvEebC_dB",
        "outputId": "c118bfa7-812d-49b9-8318-5481951370ae"
      },
      "source": [
        "mlr_measures"
      ],
      "execution_count": 35,
      "outputs": [
        {
          "output_type": "display_data",
          "data": {
            "text/plain": [
              "<DictionaryMeasure> with 82 stored values\n",
              "Keys: classif.acc, classif.auc, classif.bacc, classif.bbrier,\n",
              "  classif.ce, classif.costs, classif.dor, classif.fbeta, classif.fdr,\n",
              "  classif.fn, classif.fnr, classif.fomr, classif.fp, classif.fpr,\n",
              "  classif.logloss, classif.mbrier, classif.mcc, classif.npv,\n",
              "  classif.ppv, classif.prauc, classif.precision, classif.recall,\n",
              "  classif.sensitivity, classif.specificity, classif.tn, classif.tnr,\n",
              "  classif.tp, classif.tpr, clust.ch, clust.db, clust.dunn,\n",
              "  clust.silhouette, debug, dens.logloss, oob_error, regr.bias,\n",
              "  regr.ktau, regr.mae, regr.mape, regr.maxae, regr.medae, regr.medse,\n",
              "  regr.mse, regr.msle, regr.pbias, regr.rae, regr.rmse, regr.rmsle,\n",
              "  regr.rrse, regr.rse, regr.rsq, regr.sae, regr.smape, regr.srho,\n",
              "  regr.sse, selected_features, surv.brier, surv.calib_alpha,\n",
              "  surv.calib_beta, surv.chambless_auc, surv.cindex, surv.dcalib,\n",
              "  surv.graf, surv.hung_auc, surv.intlogloss, surv.logloss, surv.mae,\n",
              "  surv.mse, surv.nagelk_r2, surv.oquigley_r2, surv.rmse, surv.schmid,\n",
              "  surv.song_auc, surv.song_tnr, surv.song_tpr, surv.uno_auc,\n",
              "  surv.uno_tnr, surv.uno_tpr, surv.xu_r2, time_both, time_predict,\n",
              "  time_train"
            ]
          },
          "metadata": {
            "tags": []
          }
        }
      ]
    },
    {
      "cell_type": "markdown",
      "metadata": {
        "id": "iw_97FqtDGb5"
      },
      "source": [
        "To get help on a resampling method, use ?mlr_resamplings_xxx, for a measure do ?mlr_measures_xxx. You can also browse the mlr3 reference online.\n",
        "\n",
        "Note that some measures, for example AUC, require the prediction of probabilities.\n",
        "\n"
      ]
    },
    {
      "cell_type": "markdown",
      "metadata": {
        "id": "3l9i2B78DQya"
      },
      "source": [
        "### Performance Comparisons and Benchmarks \n",
        "\n",
        "We could compare Learners by evaluating resample() for each of them manually. However, benchmark() automatically performs resampling evaluations for multiple learners and tasks. benchmark_grid() creates fully crossed designs: Multiple Learners for multiple Tasks are compared w.r.t. multiple Resamplings."
      ]
    },
    {
      "cell_type": "code",
      "metadata": {
        "colab": {
          "base_uri": "https://localhost:8080/"
        },
        "id": "ISLoZdqEDZUP",
        "outputId": "5eee34f3-0bd7-4cc2-f902-635bdae45a59"
      },
      "source": [
        "learners = lrns(c(\"classif.log_reg\", \"classif.ranger\"), predict_type = \"prob\")\n",
        "bm_design = benchmark_grid(\n",
        "  tasks = task,\n",
        "  learners = learners,\n",
        "  resamplings = rsmp(\"cv\", folds = 10)\n",
        ")\n",
        "bmr = benchmark(bm_design)"
      ],
      "execution_count": 36,
      "outputs": [
        {
          "output_type": "stream",
          "text": [
            "INFO  [02:59:36.983] [mlr3]  Running benchmark with 20 resampling iterations \n",
            "INFO  [02:59:36.993] [mlr3]  Applying learner 'classif.log_reg' on task 'GermanCredit' (iter 10/10) \n",
            "INFO  [02:59:37.036] [mlr3]  Applying learner 'classif.log_reg' on task 'GermanCredit' (iter 9/10) \n",
            "INFO  [02:59:37.081] [mlr3]  Applying learner 'classif.ranger' on task 'GermanCredit' (iter 2/10) \n",
            "INFO  [02:59:37.446] [mlr3]  Applying learner 'classif.ranger' on task 'GermanCredit' (iter 9/10) \n",
            "INFO  [02:59:37.803] [mlr3]  Applying learner 'classif.ranger' on task 'GermanCredit' (iter 6/10) \n",
            "INFO  [02:59:38.149] [mlr3]  Applying learner 'classif.log_reg' on task 'GermanCredit' (iter 7/10) \n",
            "INFO  [02:59:38.191] [mlr3]  Applying learner 'classif.ranger' on task 'GermanCredit' (iter 7/10) \n",
            "INFO  [02:59:38.555] [mlr3]  Applying learner 'classif.ranger' on task 'GermanCredit' (iter 1/10) \n",
            "INFO  [02:59:38.902] [mlr3]  Applying learner 'classif.ranger' on task 'GermanCredit' (iter 4/10) \n",
            "INFO  [02:59:39.256] [mlr3]  Applying learner 'classif.ranger' on task 'GermanCredit' (iter 10/10) \n",
            "INFO  [02:59:39.589] [mlr3]  Applying learner 'classif.ranger' on task 'GermanCredit' (iter 3/10) \n",
            "INFO  [02:59:39.984] [mlr3]  Applying learner 'classif.log_reg' on task 'GermanCredit' (iter 2/10) \n",
            "INFO  [02:59:40.027] [mlr3]  Applying learner 'classif.log_reg' on task 'GermanCredit' (iter 1/10) \n",
            "INFO  [02:59:40.102] [mlr3]  Applying learner 'classif.log_reg' on task 'GermanCredit' (iter 6/10) \n",
            "INFO  [02:59:40.145] [mlr3]  Applying learner 'classif.log_reg' on task 'GermanCredit' (iter 8/10) \n",
            "INFO  [02:59:40.189] [mlr3]  Applying learner 'classif.ranger' on task 'GermanCredit' (iter 8/10) \n",
            "INFO  [02:59:40.546] [mlr3]  Applying learner 'classif.log_reg' on task 'GermanCredit' (iter 3/10) \n",
            "INFO  [02:59:40.598] [mlr3]  Applying learner 'classif.log_reg' on task 'GermanCredit' (iter 4/10) \n",
            "INFO  [02:59:40.644] [mlr3]  Applying learner 'classif.ranger' on task 'GermanCredit' (iter 5/10) \n",
            "INFO  [02:59:40.993] [mlr3]  Applying learner 'classif.log_reg' on task 'GermanCredit' (iter 5/10) \n",
            "INFO  [02:59:41.050] [mlr3]  Finished benchmark \n"
          ],
          "name": "stdout"
        }
      ]
    },
    {
      "cell_type": "markdown",
      "metadata": {
        "id": "rG_lTKFODeo9"
      },
      "source": [
        "Careful, large benchmarks may take a long time! This one should take less than a minute, however. In general, we want to use parallelization to speed things up on multi-core machines. For parallelization, mlr3 relies on the future package:"
      ]
    },
    {
      "cell_type": "code",
      "metadata": {
        "id": "pf163Ar4DfTp"
      },
      "source": [
        "#future::plan(\"multiprocess\") # uncomment for parallelization"
      ],
      "execution_count": null,
      "outputs": []
    },
    {
      "cell_type": "markdown",
      "metadata": {
        "id": "2xD4wZz2DjEN"
      },
      "source": [
        "In the benchmark we can compare different measures. Here, we look at the misclassification rate and the AUC:"
      ]
    },
    {
      "cell_type": "code",
      "metadata": {
        "colab": {
          "base_uri": "https://localhost:8080/",
          "height": 159
        },
        "id": "KciilipmDl48",
        "outputId": "07f98ac2-5728-48d4-b4c9-6dcbeddf3ae6"
      },
      "source": [
        "measures = msrs(c(\"classif.ce\", \"classif.auc\"))\n",
        "performances = bmr$aggregate(measures)\n",
        "performances[, c(\"learner_id\", \"classif.ce\", \"classif.auc\")]"
      ],
      "execution_count": 37,
      "outputs": [
        {
          "output_type": "display_data",
          "data": {
            "text/plain": [
              "  learner_id      classif.ce classif.auc\n",
              "1 classif.log_reg 0.254      0.7706921  \n",
              "2 classif.ranger  0.237      0.7944455  "
            ],
            "text/latex": "A data.table: 2 × 3\n\\begin{tabular}{lll}\n learner\\_id & classif.ce & classif.auc\\\\\n <chr> & <dbl> & <dbl>\\\\\n\\hline\n\t classif.log\\_reg & 0.254 & 0.7706921\\\\\n\t classif.ranger  & 0.237 & 0.7944455\\\\\n\\end{tabular}\n",
            "text/markdown": "\nA data.table: 2 × 3\n\n| learner_id &lt;chr&gt; | classif.ce &lt;dbl&gt; | classif.auc &lt;dbl&gt; |\n|---|---|---|\n| classif.log_reg | 0.254 | 0.7706921 |\n| classif.ranger  | 0.237 | 0.7944455 |\n\n",
            "text/html": [
              "<table class=\"dataframe\">\n",
              "<caption>A data.table: 2 × 3</caption>\n",
              "<thead>\n",
              "\t<tr><th scope=col>learner_id</th><th scope=col>classif.ce</th><th scope=col>classif.auc</th></tr>\n",
              "\t<tr><th scope=col>&lt;chr&gt;</th><th scope=col>&lt;dbl&gt;</th><th scope=col>&lt;dbl&gt;</th></tr>\n",
              "</thead>\n",
              "<tbody>\n",
              "\t<tr><td>classif.log_reg</td><td>0.254</td><td>0.7706921</td></tr>\n",
              "\t<tr><td>classif.ranger </td><td>0.237</td><td>0.7944455</td></tr>\n",
              "</tbody>\n",
              "</table>\n"
            ]
          },
          "metadata": {
            "tags": []
          }
        }
      ]
    },
    {
      "cell_type": "markdown",
      "metadata": {
        "id": "Ri8_w5vsDsJg"
      },
      "source": [
        "We see that the two models perform very similarly."
      ]
    },
    {
      "cell_type": "code",
      "metadata": {
        "id": "tOZrbh7MDr2h"
      },
      "source": [
        ""
      ],
      "execution_count": null,
      "outputs": []
    },
    {
      "cell_type": "markdown",
      "metadata": {
        "id": "6AwokmlrD0xJ"
      },
      "source": [
        "## Hyperparameter Tuning\n",
        "\n",
        "The previously shown techniques build the backbone of a mlr3-featured machine learning workflow. However, in most cases one would never proceed in the way we did. While many R packages have carefully selected default settings, they will not perform optimally in any scenario. Typically, we can select the values of such hyperparameters. The (hyper)parameters of a Learner can be accessed and set via its ParamSet $param_set:"
      ]
    },
    {
      "cell_type": "code",
      "metadata": {
        "colab": {
          "base_uri": "https://localhost:8080/",
          "height": 1000
        },
        "id": "bnncLaFmD8jJ",
        "outputId": "c8de0154-7cb7-422c-fdb1-3762cc5b7e7d"
      },
      "source": [
        "learner_rf$param_set"
      ],
      "execution_count": 38,
      "outputs": [
        {
          "output_type": "display_data",
          "data": {
            "text/plain": [
              "<ParamSet>\n",
              "                              id    class lower upper nlevels        default\n",
              " 1:                        alpha ParamDbl  -Inf   Inf     Inf            0.5\n",
              " 2:       always.split.variables ParamUty    NA    NA     Inf <NoDefault[3]>\n",
              " 3:                class.weights ParamDbl  -Inf   Inf     Inf               \n",
              " 4:                      holdout ParamLgl    NA    NA       2          FALSE\n",
              " 5:                   importance ParamFct    NA    NA       4 <NoDefault[3]>\n",
              " 6:                   keep.inbag ParamLgl    NA    NA       2          FALSE\n",
              " 7:                    max.depth ParamInt  -Inf   Inf     Inf               \n",
              " 8:                min.node.size ParamInt     1   Inf     Inf              1\n",
              " 9:                     min.prop ParamDbl  -Inf   Inf     Inf            0.1\n",
              "10:                      minprop ParamDbl  -Inf   Inf     Inf            0.1\n",
              "11:                         mtry ParamInt     1   Inf     Inf <NoDefault[3]>\n",
              "12:            num.random.splits ParamInt     1   Inf     Inf              1\n",
              "13:                  num.threads ParamInt     1   Inf     Inf              1\n",
              "14:                    num.trees ParamInt     1   Inf     Inf            500\n",
              "15:                    oob.error ParamLgl    NA    NA       2           TRUE\n",
              "16:        regularization.factor ParamUty    NA    NA     Inf              1\n",
              "17:      regularization.usedepth ParamLgl    NA    NA       2          FALSE\n",
              "18:                      replace ParamLgl    NA    NA       2           TRUE\n",
              "19:    respect.unordered.factors ParamFct    NA    NA       3         ignore\n",
              "20:              sample.fraction ParamDbl     0     1     Inf <NoDefault[3]>\n",
              "21:                  save.memory ParamLgl    NA    NA       2          FALSE\n",
              "22: scale.permutation.importance ParamLgl    NA    NA       2          FALSE\n",
              "23:                    se.method ParamFct    NA    NA       2        infjack\n",
              "24:                         seed ParamInt  -Inf   Inf     Inf               \n",
              "25:         split.select.weights ParamDbl     0     1     Inf <NoDefault[3]>\n",
              "26:                    splitrule ParamFct    NA    NA       2           gini\n",
              "27:                      verbose ParamLgl    NA    NA       2           TRUE\n",
              "28:                 write.forest ParamLgl    NA    NA       2           TRUE\n",
              "                              id    class lower upper nlevels        default\n",
              "       parents       value\n",
              " 1:                       \n",
              " 2:                       \n",
              " 3:                       \n",
              " 4:                       \n",
              " 5:            permutation\n",
              " 6:                       \n",
              " 7:                       \n",
              " 8:                       \n",
              " 9:                       \n",
              "10:                       \n",
              "11:                       \n",
              "12:  splitrule            \n",
              "13:                      1\n",
              "14:                       \n",
              "15:                       \n",
              "16:                       \n",
              "17:                       \n",
              "18:                       \n",
              "19:                       \n",
              "20:                       \n",
              "21:                       \n",
              "22: importance            \n",
              "23:                       \n",
              "24:                       \n",
              "25:                       \n",
              "26:                       \n",
              "27:                       \n",
              "28:                       \n",
              "       parents       value"
            ]
          },
          "metadata": {
            "tags": []
          }
        }
      ]
    },
    {
      "cell_type": "code",
      "metadata": {
        "id": "2zmRcsRKEHpI"
      },
      "source": [
        "learner_rf$param_set$values = list(verbose = FALSE)"
      ],
      "execution_count": 39,
      "outputs": []
    },
    {
      "cell_type": "markdown",
      "metadata": {
        "id": "0mOPeq05ENfF"
      },
      "source": [
        "We can choose parameters for our learners in two distinct manners. If we have prior knowledge on how the learner should be (hyper-)parameterized, the way to go would be manually entering the parameters in the parameter set. In most cases, however, we would want to tune the learner so that it can search “good” model configurations itself. For now, we only want to compare a few models.\n",
        "\n",
        "To get an idea on which parameters can be manipulated, we can investigate the parameters of the original package version or look into the parameter set of the learner:"
      ]
    },
    {
      "cell_type": "code",
      "metadata": {
        "colab": {
          "base_uri": "https://localhost:8080/",
          "height": 965
        },
        "id": "K3Mzpdk-EQ3x",
        "outputId": "d104e1c5-66f4-4b48-e802-2bfb0419abb4"
      },
      "source": [
        "as.data.table(learner_rf$param_set)[, .(id, class, lower, upper)]"
      ],
      "execution_count": 40,
      "outputs": [
        {
          "output_type": "display_data",
          "data": {
            "text/plain": [
              "   id                           class    lower upper\n",
              "1  num.trees                    ParamInt    1  Inf  \n",
              "2  mtry                         ParamInt    1  Inf  \n",
              "3  importance                   ParamFct   NA   NA  \n",
              "4  write.forest                 ParamLgl   NA   NA  \n",
              "5  min.node.size                ParamInt    1  Inf  \n",
              "6  replace                      ParamLgl   NA   NA  \n",
              "7  sample.fraction              ParamDbl    0    1  \n",
              "8  class.weights                ParamDbl -Inf  Inf  \n",
              "9  splitrule                    ParamFct   NA   NA  \n",
              "10 num.random.splits            ParamInt    1  Inf  \n",
              "11 split.select.weights         ParamDbl    0    1  \n",
              "12 always.split.variables       ParamUty   NA   NA  \n",
              "13 respect.unordered.factors    ParamFct   NA   NA  \n",
              "14 scale.permutation.importance ParamLgl   NA   NA  \n",
              "15 keep.inbag                   ParamLgl   NA   NA  \n",
              "16 holdout                      ParamLgl   NA   NA  \n",
              "17 num.threads                  ParamInt    1  Inf  \n",
              "18 save.memory                  ParamLgl   NA   NA  \n",
              "19 verbose                      ParamLgl   NA   NA  \n",
              "20 oob.error                    ParamLgl   NA   NA  \n",
              "21 max.depth                    ParamInt -Inf  Inf  \n",
              "22 alpha                        ParamDbl -Inf  Inf  \n",
              "23 min.prop                     ParamDbl -Inf  Inf  \n",
              "24 regularization.factor        ParamUty   NA   NA  \n",
              "25 regularization.usedepth      ParamLgl   NA   NA  \n",
              "26 seed                         ParamInt -Inf  Inf  \n",
              "27 minprop                      ParamDbl -Inf  Inf  \n",
              "28 se.method                    ParamFct   NA   NA  "
            ],
            "text/latex": "A data.table: 28 × 4\n\\begin{tabular}{llll}\n id & class & lower & upper\\\\\n <chr> & <chr> & <dbl> & <dbl>\\\\\n\\hline\n\t num.trees                    & ParamInt &    1 & Inf\\\\\n\t mtry                         & ParamInt &    1 & Inf\\\\\n\t importance                   & ParamFct &   NA &  NA\\\\\n\t write.forest                 & ParamLgl &   NA &  NA\\\\\n\t min.node.size                & ParamInt &    1 & Inf\\\\\n\t replace                      & ParamLgl &   NA &  NA\\\\\n\t sample.fraction              & ParamDbl &    0 &   1\\\\\n\t class.weights                & ParamDbl & -Inf & Inf\\\\\n\t splitrule                    & ParamFct &   NA &  NA\\\\\n\t num.random.splits            & ParamInt &    1 & Inf\\\\\n\t split.select.weights         & ParamDbl &    0 &   1\\\\\n\t always.split.variables       & ParamUty &   NA &  NA\\\\\n\t respect.unordered.factors    & ParamFct &   NA &  NA\\\\\n\t scale.permutation.importance & ParamLgl &   NA &  NA\\\\\n\t keep.inbag                   & ParamLgl &   NA &  NA\\\\\n\t holdout                      & ParamLgl &   NA &  NA\\\\\n\t num.threads                  & ParamInt &    1 & Inf\\\\\n\t save.memory                  & ParamLgl &   NA &  NA\\\\\n\t verbose                      & ParamLgl &   NA &  NA\\\\\n\t oob.error                    & ParamLgl &   NA &  NA\\\\\n\t max.depth                    & ParamInt & -Inf & Inf\\\\\n\t alpha                        & ParamDbl & -Inf & Inf\\\\\n\t min.prop                     & ParamDbl & -Inf & Inf\\\\\n\t regularization.factor        & ParamUty &   NA &  NA\\\\\n\t regularization.usedepth      & ParamLgl &   NA &  NA\\\\\n\t seed                         & ParamInt & -Inf & Inf\\\\\n\t minprop                      & ParamDbl & -Inf & Inf\\\\\n\t se.method                    & ParamFct &   NA &  NA\\\\\n\\end{tabular}\n",
            "text/markdown": "\nA data.table: 28 × 4\n\n| id &lt;chr&gt; | class &lt;chr&gt; | lower &lt;dbl&gt; | upper &lt;dbl&gt; |\n|---|---|---|---|\n| num.trees                    | ParamInt |    1 | Inf |\n| mtry                         | ParamInt |    1 | Inf |\n| importance                   | ParamFct |   NA |  NA |\n| write.forest                 | ParamLgl |   NA |  NA |\n| min.node.size                | ParamInt |    1 | Inf |\n| replace                      | ParamLgl |   NA |  NA |\n| sample.fraction              | ParamDbl |    0 |   1 |\n| class.weights                | ParamDbl | -Inf | Inf |\n| splitrule                    | ParamFct |   NA |  NA |\n| num.random.splits            | ParamInt |    1 | Inf |\n| split.select.weights         | ParamDbl |    0 |   1 |\n| always.split.variables       | ParamUty |   NA |  NA |\n| respect.unordered.factors    | ParamFct |   NA |  NA |\n| scale.permutation.importance | ParamLgl |   NA |  NA |\n| keep.inbag                   | ParamLgl |   NA |  NA |\n| holdout                      | ParamLgl |   NA |  NA |\n| num.threads                  | ParamInt |    1 | Inf |\n| save.memory                  | ParamLgl |   NA |  NA |\n| verbose                      | ParamLgl |   NA |  NA |\n| oob.error                    | ParamLgl |   NA |  NA |\n| max.depth                    | ParamInt | -Inf | Inf |\n| alpha                        | ParamDbl | -Inf | Inf |\n| min.prop                     | ParamDbl | -Inf | Inf |\n| regularization.factor        | ParamUty |   NA |  NA |\n| regularization.usedepth      | ParamLgl |   NA |  NA |\n| seed                         | ParamInt | -Inf | Inf |\n| minprop                      | ParamDbl | -Inf | Inf |\n| se.method                    | ParamFct |   NA |  NA |\n\n",
            "text/html": [
              "<table class=\"dataframe\">\n",
              "<caption>A data.table: 28 × 4</caption>\n",
              "<thead>\n",
              "\t<tr><th scope=col>id</th><th scope=col>class</th><th scope=col>lower</th><th scope=col>upper</th></tr>\n",
              "\t<tr><th scope=col>&lt;chr&gt;</th><th scope=col>&lt;chr&gt;</th><th scope=col>&lt;dbl&gt;</th><th scope=col>&lt;dbl&gt;</th></tr>\n",
              "</thead>\n",
              "<tbody>\n",
              "\t<tr><td>num.trees                   </td><td>ParamInt</td><td>   1</td><td>Inf</td></tr>\n",
              "\t<tr><td>mtry                        </td><td>ParamInt</td><td>   1</td><td>Inf</td></tr>\n",
              "\t<tr><td>importance                  </td><td>ParamFct</td><td>  NA</td><td> NA</td></tr>\n",
              "\t<tr><td>write.forest                </td><td>ParamLgl</td><td>  NA</td><td> NA</td></tr>\n",
              "\t<tr><td>min.node.size               </td><td>ParamInt</td><td>   1</td><td>Inf</td></tr>\n",
              "\t<tr><td>replace                     </td><td>ParamLgl</td><td>  NA</td><td> NA</td></tr>\n",
              "\t<tr><td>sample.fraction             </td><td>ParamDbl</td><td>   0</td><td>  1</td></tr>\n",
              "\t<tr><td>class.weights               </td><td>ParamDbl</td><td>-Inf</td><td>Inf</td></tr>\n",
              "\t<tr><td>splitrule                   </td><td>ParamFct</td><td>  NA</td><td> NA</td></tr>\n",
              "\t<tr><td>num.random.splits           </td><td>ParamInt</td><td>   1</td><td>Inf</td></tr>\n",
              "\t<tr><td>split.select.weights        </td><td>ParamDbl</td><td>   0</td><td>  1</td></tr>\n",
              "\t<tr><td>always.split.variables      </td><td>ParamUty</td><td>  NA</td><td> NA</td></tr>\n",
              "\t<tr><td>respect.unordered.factors   </td><td>ParamFct</td><td>  NA</td><td> NA</td></tr>\n",
              "\t<tr><td>scale.permutation.importance</td><td>ParamLgl</td><td>  NA</td><td> NA</td></tr>\n",
              "\t<tr><td>keep.inbag                  </td><td>ParamLgl</td><td>  NA</td><td> NA</td></tr>\n",
              "\t<tr><td>holdout                     </td><td>ParamLgl</td><td>  NA</td><td> NA</td></tr>\n",
              "\t<tr><td>num.threads                 </td><td>ParamInt</td><td>   1</td><td>Inf</td></tr>\n",
              "\t<tr><td>save.memory                 </td><td>ParamLgl</td><td>  NA</td><td> NA</td></tr>\n",
              "\t<tr><td>verbose                     </td><td>ParamLgl</td><td>  NA</td><td> NA</td></tr>\n",
              "\t<tr><td>oob.error                   </td><td>ParamLgl</td><td>  NA</td><td> NA</td></tr>\n",
              "\t<tr><td>max.depth                   </td><td>ParamInt</td><td>-Inf</td><td>Inf</td></tr>\n",
              "\t<tr><td>alpha                       </td><td>ParamDbl</td><td>-Inf</td><td>Inf</td></tr>\n",
              "\t<tr><td>min.prop                    </td><td>ParamDbl</td><td>-Inf</td><td>Inf</td></tr>\n",
              "\t<tr><td>regularization.factor       </td><td>ParamUty</td><td>  NA</td><td> NA</td></tr>\n",
              "\t<tr><td>regularization.usedepth     </td><td>ParamLgl</td><td>  NA</td><td> NA</td></tr>\n",
              "\t<tr><td>seed                        </td><td>ParamInt</td><td>-Inf</td><td>Inf</td></tr>\n",
              "\t<tr><td>minprop                     </td><td>ParamDbl</td><td>-Inf</td><td>Inf</td></tr>\n",
              "\t<tr><td>se.method                   </td><td>ParamFct</td><td>  NA</td><td> NA</td></tr>\n",
              "</tbody>\n",
              "</table>\n"
            ]
          },
          "metadata": {
            "tags": []
          }
        }
      ]
    },
    {
      "cell_type": "markdown",
      "metadata": {
        "id": "no2WRMCcEaNQ"
      },
      "source": [
        "For the random forest two meaningful parameters which steer model complexity are num.trees and mtry. num.trees defaults to 500 and mtry to floor(sqrt(ncol(data) - 1)), in our case 4.\n",
        "\n",
        "In the following we aim to train three different learners:\n",
        "\n",
        "The default random forest.\n",
        "A random forest with low num.trees and low mtry.\n",
        "A random forest with high num.trees and high mtry.\n",
        "We will benchmark their performance on the German credit dataset. For this we construct the three learners and set the parameters accordingly:"
      ]
    },
    {
      "cell_type": "code",
      "metadata": {
        "id": "8qp3AffkEi80"
      },
      "source": [
        "rf_med = lrn(\"classif.ranger\", id = \"med\", predict_type = \"prob\")\n",
        "\n",
        "rf_low = lrn(\"classif.ranger\", id = \"low\", predict_type = \"prob\",\n",
        "  num.trees = 5, mtry = 2)\n",
        "\n",
        "rf_high = lrn(\"classif.ranger\", id = \"high\", predict_type = \"prob\",\n",
        "  num.trees = 1000, mtry = 11)"
      ],
      "execution_count": 42,
      "outputs": []
    },
    {
      "cell_type": "markdown",
      "metadata": {
        "id": "U3JYF05HEp_n"
      },
      "source": [
        "Once the learners are defined, we can benchmark them:\n",
        "\n"
      ]
    },
    {
      "cell_type": "code",
      "metadata": {
        "colab": {
          "base_uri": "https://localhost:8080/"
        },
        "id": "y7RYfb4FEqkW",
        "outputId": "879a6c06-b6d2-4c5a-a453-8d5a16f516e9"
      },
      "source": [
        "learners = list(rf_low, rf_med, rf_high)\n",
        "bm_design = benchmark_grid(\n",
        "  tasks = task,\n",
        "  learners = learners,\n",
        "  resamplings = rsmp(\"cv\", folds = 10)\n",
        ")\n",
        "bmr = benchmark(bm_design)\n",
        "print(bmr)"
      ],
      "execution_count": 43,
      "outputs": [
        {
          "output_type": "stream",
          "text": [
            "INFO  [03:05:17.285] [mlr3]  Running benchmark with 30 resampling iterations \n",
            "INFO  [03:05:17.295] [mlr3]  Applying learner 'low' on task 'GermanCredit' (iter 3/10) \n",
            "INFO  [03:05:17.322] [mlr3]  Applying learner 'low' on task 'GermanCredit' (iter 5/10) \n",
            "INFO  [03:05:17.349] [mlr3]  Applying learner 'med' on task 'GermanCredit' (iter 10/10) \n",
            "INFO  [03:05:17.701] [mlr3]  Applying learner 'med' on task 'GermanCredit' (iter 2/10) \n",
            "INFO  [03:05:18.067] [mlr3]  Applying learner 'med' on task 'GermanCredit' (iter 6/10) \n",
            "INFO  [03:05:18.429] [mlr3]  Applying learner 'high' on task 'GermanCredit' (iter 2/10) \n",
            "INFO  [03:05:19.469] [mlr3]  Applying learner 'low' on task 'GermanCredit' (iter 10/10) \n",
            "INFO  [03:05:19.496] [mlr3]  Applying learner 'high' on task 'GermanCredit' (iter 1/10) \n",
            "INFO  [03:05:20.514] [mlr3]  Applying learner 'high' on task 'GermanCredit' (iter 7/10) \n",
            "INFO  [03:05:21.522] [mlr3]  Applying learner 'med' on task 'GermanCredit' (iter 9/10) \n",
            "INFO  [03:05:21.870] [mlr3]  Applying learner 'low' on task 'GermanCredit' (iter 4/10) \n",
            "INFO  [03:05:21.900] [mlr3]  Applying learner 'low' on task 'GermanCredit' (iter 8/10) \n",
            "INFO  [03:05:21.930] [mlr3]  Applying learner 'high' on task 'GermanCredit' (iter 8/10) \n",
            "INFO  [03:05:22.943] [mlr3]  Applying learner 'med' on task 'GermanCredit' (iter 4/10) \n",
            "INFO  [03:05:23.356] [mlr3]  Applying learner 'high' on task 'GermanCredit' (iter 6/10) \n",
            "INFO  [03:05:24.433] [mlr3]  Applying learner 'med' on task 'GermanCredit' (iter 7/10) \n",
            "INFO  [03:05:24.789] [mlr3]  Applying learner 'high' on task 'GermanCredit' (iter 9/10) \n",
            "INFO  [03:05:25.835] [mlr3]  Applying learner 'high' on task 'GermanCredit' (iter 5/10) \n",
            "INFO  [03:05:26.876] [mlr3]  Applying learner 'high' on task 'GermanCredit' (iter 3/10) \n",
            "INFO  [03:05:27.927] [mlr3]  Applying learner 'low' on task 'GermanCredit' (iter 2/10) \n",
            "INFO  [03:05:27.958] [mlr3]  Applying learner 'low' on task 'GermanCredit' (iter 7/10) \n",
            "INFO  [03:05:27.987] [mlr3]  Applying learner 'med' on task 'GermanCredit' (iter 3/10) \n",
            "INFO  [03:05:28.334] [mlr3]  Applying learner 'med' on task 'GermanCredit' (iter 8/10) \n",
            "INFO  [03:05:28.684] [mlr3]  Applying learner 'high' on task 'GermanCredit' (iter 10/10) \n",
            "INFO  [03:05:29.732] [mlr3]  Applying learner 'low' on task 'GermanCredit' (iter 6/10) \n",
            "INFO  [03:05:29.760] [mlr3]  Applying learner 'low' on task 'GermanCredit' (iter 1/10) \n",
            "INFO  [03:05:29.789] [mlr3]  Applying learner 'low' on task 'GermanCredit' (iter 9/10) \n",
            "INFO  [03:05:29.819] [mlr3]  Applying learner 'med' on task 'GermanCredit' (iter 1/10) \n",
            "INFO  [03:05:30.222] [mlr3]  Applying learner 'high' on task 'GermanCredit' (iter 4/10) \n",
            "INFO  [03:05:31.289] [mlr3]  Applying learner 'med' on task 'GermanCredit' (iter 5/10) \n",
            "INFO  [03:05:31.632] [mlr3]  Finished benchmark \n",
            "<BenchmarkResult> of 30 rows with 3 resampling runs\n",
            " nr      task_id learner_id resampling_id iters warnings errors\n",
            "  1 GermanCredit        low            cv    10        0      0\n",
            "  2 GermanCredit        med            cv    10        0      0\n",
            "  3 GermanCredit       high            cv    10        0      0\n"
          ],
          "name": "stdout"
        }
      ]
    },
    {
      "cell_type": "markdown",
      "metadata": {
        "id": "44WZivO9E0xS"
      },
      "source": [
        "We compare misclassification rate and AUC again:\n",
        "\n"
      ]
    },
    {
      "cell_type": "code",
      "metadata": {
        "colab": {
          "base_uri": "https://localhost:8080/",
          "height": 190
        },
        "id": "UF1JCguQE1lD",
        "outputId": "131c64ee-fa32-4eed-fc0a-11e96e052483"
      },
      "source": [
        "measures = msrs(c(\"classif.ce\", \"classif.auc\"))\n",
        "performances = bmr$aggregate(measures)\n",
        "performances[, .(learner_id, classif.ce, classif.auc)]"
      ],
      "execution_count": 44,
      "outputs": [
        {
          "output_type": "display_data",
          "data": {
            "text/plain": [
              "  learner_id classif.ce classif.auc\n",
              "1 low        0.274      0.7162329  \n",
              "2 med        0.237      0.7952268  \n",
              "3 high       0.233      0.7945119  "
            ],
            "text/latex": "A data.table: 3 × 3\n\\begin{tabular}{lll}\n learner\\_id & classif.ce & classif.auc\\\\\n <chr> & <dbl> & <dbl>\\\\\n\\hline\n\t low  & 0.274 & 0.7162329\\\\\n\t med  & 0.237 & 0.7952268\\\\\n\t high & 0.233 & 0.7945119\\\\\n\\end{tabular}\n",
            "text/markdown": "\nA data.table: 3 × 3\n\n| learner_id &lt;chr&gt; | classif.ce &lt;dbl&gt; | classif.auc &lt;dbl&gt; |\n|---|---|---|\n| low  | 0.274 | 0.7162329 |\n| med  | 0.237 | 0.7952268 |\n| high | 0.233 | 0.7945119 |\n\n",
            "text/html": [
              "<table class=\"dataframe\">\n",
              "<caption>A data.table: 3 × 3</caption>\n",
              "<thead>\n",
              "\t<tr><th scope=col>learner_id</th><th scope=col>classif.ce</th><th scope=col>classif.auc</th></tr>\n",
              "\t<tr><th scope=col>&lt;chr&gt;</th><th scope=col>&lt;dbl&gt;</th><th scope=col>&lt;dbl&gt;</th></tr>\n",
              "</thead>\n",
              "<tbody>\n",
              "\t<tr><td>low </td><td>0.274</td><td>0.7162329</td></tr>\n",
              "\t<tr><td>med </td><td>0.237</td><td>0.7952268</td></tr>\n",
              "\t<tr><td>high</td><td>0.233</td><td>0.7945119</td></tr>\n",
              "</tbody>\n",
              "</table>\n"
            ]
          },
          "metadata": {
            "tags": []
          }
        }
      ]
    },
    {
      "cell_type": "code",
      "metadata": {
        "colab": {
          "base_uri": "https://localhost:8080/",
          "height": 437
        },
        "id": "UAuwoKwwFDlK",
        "outputId": "0507b15c-cdfc-4c3f-d904-d95d21aa4f5e"
      },
      "source": [
        "autoplot(bmr)"
      ],
      "execution_count": 45,
      "outputs": [
        {
          "output_type": "display_data",
          "data": {
            "image/png": "[encoded data removed]",
            "text/plain": [
              "plot without title"
            ]
          },
          "metadata": {
            "tags": [],
            "image/png": {
              "width": 420,
              "height": 420
            }
          }
        }
      ]
    },
    {
      "cell_type": "markdown",
      "metadata": {
        "id": "1izLaK2-FBXQ"
      },
      "source": [
        "The “low” settings seem to underfit a bit, the “high” setting is comparable to the default setting “med”."
      ]
    }
  ]
}